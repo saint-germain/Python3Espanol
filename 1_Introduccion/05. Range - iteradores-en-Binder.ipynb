{
 "cells": [
  {
   "cell_type": "markdown",
   "metadata": {},
   "source": [
    "# La función `range()` e iteradores (usando Binder)\n",
    "\n",
    "Nota: Este notebook reemplaza el notebook [`05. Range - iteradores`](05. Range - iteradores.ipynb) cuando se corre el repositorio usando Binder."
   ]
  },
  {
   "cell_type": "code",
   "execution_count": null,
   "metadata": {
    "collapsed": true
   },
   "outputs": [],
   "source": [
    "# esta celda funciona en binder\n",
    "range(10)"
   ]
  },
  {
   "cell_type": "code",
   "execution_count": null,
   "metadata": {
    "collapsed": true
   },
   "outputs": [],
   "source": [
    "# esta celda funciona en binder\n",
    "for i in range(10):\n",
    "    print(i)"
   ]
  },
  {
   "cell_type": "code",
   "execution_count": null,
   "metadata": {
    "collapsed": true
   },
   "outputs": [],
   "source": [
    "# esta celda funciona en binder\n",
    "type(range(10))"
   ]
  },
  {
   "cell_type": "code",
   "execution_count": null,
   "metadata": {
    "collapsed": true
   },
   "outputs": [],
   "source": [
    "# esta celda funciona en binder\n",
    "list(range(10))"
   ]
  },
  {
   "cell_type": "code",
   "execution_count": null,
   "metadata": {
    "collapsed": true
   },
   "outputs": [],
   "source": [
    "# Correr esta celda para encontrar el paquete \"mobilechelonian\" para su uso con Binder\n",
    "import sys\n",
    "sys.path.append('..')"
   ]
  },
  {
   "cell_type": "code",
   "execution_count": null,
   "metadata": {
    "collapsed": true
   },
   "outputs": [],
   "source": [
    "import mobilechelonian as turtle   \n",
    "german = turtle.Turtle()"
   ]
  },
  {
   "cell_type": "code",
   "execution_count": null,
   "metadata": {
    "collapsed": true
   },
   "outputs": [],
   "source": [
    "for i in range(10):\n",
    "    german.forward(15)\n",
    "    german.right(90)\n",
    "    german.forward(15)\n",
    "    german.left(90)"
   ]
  },
  {
   "cell_type": "code",
   "execution_count": null,
   "metadata": {
    "collapsed": true,
    "scrolled": false
   },
   "outputs": [],
   "source": [
    "german = turtle.Turtle()"
   ]
  },
  {
   "cell_type": "code",
   "execution_count": null,
   "metadata": {
    "collapsed": true
   },
   "outputs": [],
   "source": [
    "german.speed(10)"
   ]
  },
  {
   "cell_type": "code",
   "execution_count": null,
   "metadata": {
    "collapsed": true
   },
   "outputs": [],
   "source": [
    "repeticiones=10\n",
    "dist=15\n",
    "angulo=90\n",
    "for i in range(repeticiones):\n",
    "    german.forward(dist)\n",
    "    german.right(angulo)\n",
    "    german.forward(dist)\n",
    "    german.left(angulo)"
   ]
  },
  {
   "cell_type": "code",
   "execution_count": null,
   "metadata": {
    "collapsed": true
   },
   "outputs": [],
   "source": [
    "# esta celda funciona en binder\n",
    "ar=range(0, 19, 2)\n",
    "br=range(0, 20, 2)\n",
    "cr=range(10, 0, -1)"
   ]
  },
  {
   "cell_type": "code",
   "execution_count": null,
   "metadata": {
    "collapsed": true
   },
   "outputs": [],
   "source": [
    "# esta celda funciona en binder\n",
    "for a in ar:\n",
    "    print(a) # inténtalo con los demás rangos, br y cr para ver qué ocurre"
   ]
  },
  {
   "cell_type": "markdown",
   "metadata": {},
   "source": [
    "¿En el comando `range(3, 10, 2)` para qué sirve el segundo argumento (10)?\n",
    "\n",
    "- (a) El rango se debe detener en el 9.\n",
    "- (b) El rango debe iniciar en el 10.\n",
    "- (c) El rango inicia desde 3 y termina en 10 (incluyendo el 10).\n",
    "- (d) El rango incluye números que van de diez en diez.\n",
    "\n",
    "¿Qué comando genera la lista [2, 5, 8]?\n",
    "\n",
    "- (a) range(2, 5, 8)\n",
    "- (b) range(2, 8, 3)\n",
    "- (c) list(range(2, 5, 8))\n",
    "- (d) list(range(2, 8, 3))\n",
    "\n",
    "¿Qué ocurre si el rango sólo tiene un argumento?\n",
    "\n",
    "- (a) El rango empieza desde 0 y se incluyen todos los números excepto el argumento con el que se llamó a `range`.\n",
    "- (b) El rango empieza desde 1 y se incluyen todos los números excepto el argumento con el que se llamó a `range`.\n",
    "- (c) El rango empieza desde 1 y se incluyen todos los números incluyendo el argumento con el que se llamó a `range`.\n",
    "- (d) Causa un error, siempre necesita 3 argumentos."
   ]
  },
  {
   "cell_type": "markdown",
   "metadata": {},
   "source": [
    "<img src=\"img/dif.png\">"
   ]
  },
  {
   "cell_type": "markdown",
   "metadata": {},
   "source": [
    "Este material fue recopilado para Clubes de Ciencia Colombia 2017 por Luis Henry Quiroga (GitHub: [lhquirogan](https://github.com/lhquirogan)) - Germán Chaparro (GitHub: [saint-germain](https://github.com/saint-germain)), y fue traducido y adaptado de http://interactivepython.org/runestone/static/thinkcspy/index.html\n",
    "\n",
    "Copyright (C) Brad Miller, David Ranum, Jeffrey Elkner, Peter Wentworth, Allen B. Downey, Chris\n",
    "Meyers, and Dario Mitchell. Permission is granted to copy, distribute\n",
    "and/or modify this document under the terms of the GNU Free Documentation\n",
    "License, Version 1.3 or any later version published by the Free Software\n",
    "Foundation; with Invariant Sections being Forward, Prefaces, and\n",
    "Contributor List, no Front-Cover Texts, and no Back-Cover Texts. A copy of\n",
    "the license is included in the section entitled “GNU Free Documentation\n",
    "License”."
   ]
  }
 ],
 "metadata": {
  "kernelspec": {
   "display_name": "Python 3",
   "language": "python",
   "name": "python3"
  },
  "language_info": {
   "codemirror_mode": {
    "name": "ipython",
    "version": 3
   },
   "file_extension": ".py",
   "mimetype": "text/x-python",
   "name": "python",
   "nbconvert_exporter": "python",
   "pygments_lexer": "ipython3",
   "version": "3.6.1"
  }
 },
 "nbformat": 4,
 "nbformat_minor": 2
}
