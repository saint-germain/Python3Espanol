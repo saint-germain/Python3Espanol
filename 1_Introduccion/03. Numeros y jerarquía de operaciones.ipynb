{
 "cells": [
  {
   "cell_type": "markdown",
   "metadata": {},
   "source": [
    "# Números y jerarquía de operaciones\n",
    "\n",
    "- Números enteros y flotantes\n",
    "- Jerarquía de operaciones\n",
    "- Asignación de variables\n",
    "\n",
    "## Números enteros y flotantes\n",
    "\n",
    "\n",
    "\n",
    "Con los números se pueden realizar los siguientes tipos de operaciones:\n",
    "\n",
    "| Operación | Resultado         |\n",
    "| --------- | ---------------   |\n",
    "|    +      | Suma              |\n",
    "|    -      | Resta             |\n",
    "|    *      | Multiplicación    |\n",
    "|    /      | División          |\n",
    "|    //     | División entera   |\n",
    "|    \\*\\*   | Potencia          |\n",
    "|    %      | Residuo (modulo)  |\n",
    "\n",
    "Algunos sencillos ejemplos son:"
   ]
  },
  {
   "cell_type": "code",
   "execution_count": null,
   "metadata": {
    "collapsed": true
   },
   "outputs": [],
   "source": [
    "2.**5"
   ]
  },
  {
   "cell_type": "code",
   "execution_count": null,
   "metadata": {
    "collapsed": true
   },
   "outputs": [],
   "source": [
    "2**5"
   ]
  },
  {
   "cell_type": "code",
   "execution_count": null,
   "metadata": {
    "collapsed": true
   },
   "outputs": [],
   "source": [
    "3/2"
   ]
  },
  {
   "cell_type": "code",
   "execution_count": null,
   "metadata": {
    "collapsed": true
   },
   "outputs": [],
   "source": [
    "3//2"
   ]
  },
  {
   "cell_type": "code",
   "execution_count": null,
   "metadata": {
    "collapsed": true
   },
   "outputs": [],
   "source": [
    "2//3"
   ]
  },
  {
   "cell_type": "code",
   "execution_count": null,
   "metadata": {
    "collapsed": true
   },
   "outputs": [],
   "source": [
    "21/3"
   ]
  },
  {
   "cell_type": "code",
   "execution_count": null,
   "metadata": {
    "collapsed": true
   },
   "outputs": [],
   "source": [
    "21//3"
   ]
  },
  {
   "cell_type": "code",
   "execution_count": null,
   "metadata": {
    "collapsed": true
   },
   "outputs": [],
   "source": [
    "21%3"
   ]
  },
  {
   "cell_type": "markdown",
   "metadata": {
    "collapsed": true
   },
   "source": [
    "¿Cuál es el resultado de cada una de las siguientes operaciones?\n",
    "\n",
    "- `18/4`\n",
    "- `18//4`\n",
    "- `18%4`"
   ]
  },
  {
   "cell_type": "code",
   "execution_count": null,
   "metadata": {
    "collapsed": true
   },
   "outputs": [],
   "source": [
    "18%4"
   ]
  },
  {
   "cell_type": "markdown",
   "metadata": {},
   "source": [
    "## Jerarquía de operaciones\n",
    "\n",
    "- Paréntesis\n",
    "- Exponenciación\n",
    "- Multiplicación y División\n",
    "- Sumas y Restas (izquierda a derecha)"
   ]
  },
  {
   "cell_type": "code",
   "execution_count": null,
   "metadata": {
    "collapsed": true
   },
   "outputs": [],
   "source": [
    "2 * (3-1)  "
   ]
  },
  {
   "cell_type": "code",
   "execution_count": null,
   "metadata": {
    "collapsed": true
   },
   "outputs": [],
   "source": [
    "(1+1)**(5-2)"
   ]
  },
  {
   "cell_type": "code",
   "execution_count": null,
   "metadata": {
    "collapsed": true
   },
   "outputs": [],
   "source": [
    "2**1+1"
   ]
  },
  {
   "cell_type": "code",
   "execution_count": null,
   "metadata": {
    "collapsed": true
   },
   "outputs": [],
   "source": [
    "3*1**3"
   ]
  },
  {
   "cell_type": "code",
   "execution_count": null,
   "metadata": {
    "collapsed": true
   },
   "outputs": [],
   "source": [
    "2*3-1"
   ]
  },
  {
   "cell_type": "code",
   "execution_count": null,
   "metadata": {
    "collapsed": true
   },
   "outputs": [],
   "source": [
    "5-2*2"
   ]
  },
  {
   "cell_type": "code",
   "execution_count": null,
   "metadata": {
    "collapsed": true
   },
   "outputs": [],
   "source": [
    "6-3+2"
   ]
  },
  {
   "cell_type": "code",
   "execution_count": null,
   "metadata": {
    "collapsed": true
   },
   "outputs": [],
   "source": [
    "6-(3+2)"
   ]
  },
  {
   "cell_type": "code",
   "execution_count": null,
   "metadata": {
    "collapsed": true
   },
   "outputs": [],
   "source": [
    "100/100/2"
   ]
  },
  {
   "cell_type": "code",
   "execution_count": null,
   "metadata": {
    "collapsed": true
   },
   "outputs": [],
   "source": [
    "100/100*2"
   ]
  },
  {
   "cell_type": "code",
   "execution_count": null,
   "metadata": {
    "collapsed": true
   },
   "outputs": [],
   "source": [
    "100/(100*2)"
   ]
  },
  {
   "cell_type": "markdown",
   "metadata": {},
   "source": [
    "¿Cuál es el valor de la siguiente expresión?\n",
    "\n",
    "`16 - 2 * 5 // 3 + 1` \n",
    "\n",
    "- (a) 14\n",
    "- (b) 24\n",
    "- (c) 3\n",
    "- (d) 13.667 "
   ]
  },
  {
   "cell_type": "markdown",
   "metadata": {},
   "source": [
    "## Asignación de variables"
   ]
  },
  {
   "cell_type": "code",
   "execution_count": null,
   "metadata": {
    "collapsed": true
   },
   "outputs": [],
   "source": [
    "x = 15\n",
    "y = x\n",
    "x == y"
   ]
  },
  {
   "cell_type": "code",
   "execution_count": null,
   "metadata": {
    "collapsed": true
   },
   "outputs": [],
   "source": [
    "x = 22\n",
    "x==y"
   ]
  },
  {
   "cell_type": "code",
   "execution_count": null,
   "metadata": {
    "collapsed": true
   },
   "outputs": [],
   "source": [
    "x = x+1\n",
    "x"
   ]
  },
  {
   "cell_type": "code",
   "execution_count": null,
   "metadata": {
    "collapsed": true
   },
   "outputs": [],
   "source": [
    "x+=1\n",
    "x"
   ]
  },
  {
   "cell_type": "code",
   "execution_count": null,
   "metadata": {
    "collapsed": true
   },
   "outputs": [],
   "source": [
    "x-=20\n",
    "x"
   ]
  },
  {
   "cell_type": "markdown",
   "metadata": {},
   "source": [
    "¿Qué aparece cuando se ejecuta la siguiente secuencia?\n",
    "```\n",
    "x = 12\n",
    "x = x - 1\n",
    "print(x)\n",
    "```\n",
    "- (a) 12\n",
    "- (b) -1\n",
    "- (c) 11\n",
    "- (d) Aparece un error porque x no puede ser igual a x - 1.\n",
    "\n",
    "¿Qué aparece cuando se ejecuta la siguiente secuencia?\n",
    "```\n",
    "x = 12\n",
    "x = x - 3\n",
    "x = x + 5\n",
    "x = x + 1\n",
    "print(x)\n",
    "```\n",
    "- (a) 12\n",
    "- (b) 9\n",
    "- (c) 15\n",
    "- (d) Aparece un error porque no es posible cambiar el valor de x tantas veces.\n",
    "\n",
    "¿En qué orden hay que poner estas instrucciones para que se muestre el número 2000?\n",
    "\n",
    "- 1) `miplata=1500`\n",
    "- 2) `print(miplata)`\n",
    "- 3) `miplata+=500`\n",
    "\n",
    "- (a) 123\n",
    "- (b) 321\n",
    "- (c) 231\n",
    "- (d) 132\n",
    "\n"
   ]
  },
  {
   "cell_type": "markdown",
   "metadata": {},
   "source": [
    "<img src=\"img/rock.png\">"
   ]
  },
  {
   "cell_type": "markdown",
   "metadata": {},
   "source": [
    "El material de este notebook fue recopilado para Clubes de Ciencia Colombia 2017 por Luis Henry Quiroga (GitHub: [lhquirogan](https://github.com/lhquirogan)) - Germán Chaparro (GitHub: [saint-germain](https://github.com/saint-germain)), y fue adaptado de https://github.com/PythonBootcampUniandes"
   ]
  }
 ],
 "metadata": {
  "kernelspec": {
   "display_name": "Python 3",
   "language": "python",
   "name": "python3"
  },
  "language_info": {
   "codemirror_mode": {
    "name": "ipython",
    "version": 3
   },
   "file_extension": ".py",
   "mimetype": "text/x-python",
   "name": "python",
   "nbconvert_exporter": "python",
   "pygments_lexer": "ipython3",
   "version": "3.6.1"
  }
 },
 "nbformat": 4,
 "nbformat_minor": 1
}
