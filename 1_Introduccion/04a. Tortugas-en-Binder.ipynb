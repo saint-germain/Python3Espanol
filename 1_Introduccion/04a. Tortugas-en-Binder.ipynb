{
 "cells": [
  {
   "cell_type": "markdown",
   "metadata": {},
   "source": [
    "# Dibujos quelonios (en Binder)\n",
    "\n",
    "Nota: Este notebook reemplaza el notebook [`04. Tortugas`](04. Tortugas.ipynb) cuando se corre el repositorio usando Binder."
   ]
  },
  {
   "cell_type": "code",
   "execution_count": null,
   "metadata": {
    "collapsed": true
   },
   "outputs": [],
   "source": [
    "# Correr esta celda para encontrar el paquete \"mobilechelonian\" para su uso con Binder\n",
    "import sys\n",
    "sys.path.append('..')"
   ]
  },
  {
   "cell_type": "code",
   "execution_count": null,
   "metadata": {
    "collapsed": true
   },
   "outputs": [],
   "source": [
    "import mobilechelonian as turtle"
   ]
  },
  {
   "cell_type": "code",
   "execution_count": null,
   "metadata": {
    "collapsed": true
   },
   "outputs": [],
   "source": [
    "henry = turtle.Turtle()          # crea una tortuga (cursor) que se llama henry"
   ]
  },
  {
   "cell_type": "code",
   "execution_count": null,
   "metadata": {
    "collapsed": true
   },
   "outputs": [],
   "source": [
    "henry.forward(150)               # le decimos a henry que avance 150 pasos\n",
    "henry.left(90)                   # henry, da una vuelta de 90 grados hacia la derecha"
   ]
  },
  {
   "cell_type": "markdown",
   "metadata": {},
   "source": [
    "Trata de dibujar un cuadrado de 150 pasos de lado."
   ]
  },
  {
   "cell_type": "code",
   "execution_count": null,
   "metadata": {
    "collapsed": true
   },
   "outputs": [],
   "source": [
    "henry.color='red'               # Esto también es un atributo, y se puede cambiar"
   ]
  },
  {
   "cell_type": "code",
   "execution_count": null,
   "metadata": {
    "collapsed": true
   },
   "outputs": [],
   "source": [
    "henry.forward(100)               # Esto es un método que cambia la posición del cursor"
   ]
  },
  {
   "cell_type": "code",
   "execution_count": null,
   "metadata": {
    "collapsed": true
   },
   "outputs": [],
   "source": [
    "henry.home()"
   ]
  },
  {
   "cell_type": "markdown",
   "metadata": {},
   "source": [
    "Si quiero volver a empezar, vuelvo a la celda que define `henry=turtle.Turtle()`"
   ]
  },
  {
   "cell_type": "code",
   "execution_count": null,
   "metadata": {
    "collapsed": true
   },
   "outputs": [],
   "source": [
    "henry.setposition(100,100)             # Qué diferencia hay con el método forward?"
   ]
  },
  {
   "cell_type": "code",
   "execution_count": null,
   "metadata": {
    "collapsed": true
   },
   "outputs": [],
   "source": [
    "henry.penup()\n",
    "henry.setposition(100,0)"
   ]
  },
  {
   "cell_type": "code",
   "execution_count": null,
   "metadata": {
    "collapsed": true
   },
   "outputs": [],
   "source": [
    "henry.pendown()\n",
    "henry.home()"
   ]
  },
  {
   "cell_type": "markdown",
   "metadata": {},
   "source": [
    "¿Para qué escribimos `turtle.Turtle()` para obtener un nuevo objeto Turtle (tortuga)?\n",
    "\n",
    "- (a) Por claridad. También funcionaría escribir `Turtle()`.\n",
    "- (b) El punto (.) le dice a Python que necesitamos un nuevo objeto.\n",
    "- (c) La primera `turtle` le dice a Python que necesitamos el módulo `turtle` en el cual encontramos el objeto `Turtle`.\n",
    "\n",
    "Trata de dibujar una X con la tortuga."
   ]
  },
  {
   "cell_type": "code",
   "execution_count": null,
   "metadata": {
    "collapsed": true
   },
   "outputs": [],
   "source": [
    "julian = turtle.Turtle()     # crea otra tortuga que se llama julian"
   ]
  },
  {
   "cell_type": "markdown",
   "metadata": {},
   "source": [
    "\n",
    "## El ciclo `for`\n"
   ]
  },
  {
   "cell_type": "code",
   "execution_count": null,
   "metadata": {
    "collapsed": true
   },
   "outputs": [],
   "source": [
    "# esta celda funciona en binder\n",
    "for amiga in ['Jacinta','Nepomucena','Gertrudis','Poncha','Domitila']:\n",
    "    print(\"Mi mejor amiga hoy es\",amiga) # indentación es un tab para lo que quiero que se repita en el ciclo"
   ]
  },
  {
   "cell_type": "code",
   "execution_count": null,
   "metadata": {
    "collapsed": true
   },
   "outputs": [],
   "source": [
    "# esta celda funciona en binder\n",
    "for i in ['Jacinta','Nepomucena','Gertrudis','Poncha','Domitila']:\n",
    "    print(\"Mi mejor amiga hoy es\",i)"
   ]
  },
  {
   "cell_type": "code",
   "execution_count": null,
   "metadata": {
    "collapsed": true
   },
   "outputs": [],
   "source": [
    "# esta celda funciona en binder\n",
    "amigas=['Jacinta','Nepomucena','Gertrudis','Poncha','Domitila'] # esto es un objeto llamado lista\n",
    "amigas"
   ]
  },
  {
   "cell_type": "code",
   "execution_count": null,
   "metadata": {
    "collapsed": true
   },
   "outputs": [],
   "source": [
    "# esta celda funciona en binder\n",
    "for amiga in amigas:\n",
    "    print(\"Mi mejor amiga hoy es\",amiga) "
   ]
  },
  {
   "cell_type": "code",
   "execution_count": null,
   "metadata": {
    "collapsed": true
   },
   "outputs": [],
   "source": [
    "# esta celda funciona en binder\n",
    "type(amigas)"
   ]
  },
  {
   "cell_type": "code",
   "execution_count": null,
   "metadata": {
    "collapsed": true
   },
   "outputs": [],
   "source": [
    "# esta celda funciona en binder\n",
    "type(amiga)"
   ]
  },
  {
   "cell_type": "code",
   "execution_count": null,
   "metadata": {
    "collapsed": true
   },
   "outputs": [],
   "source": [
    "# esta celda funciona en binder\n",
    "amiga"
   ]
  },
  {
   "cell_type": "code",
   "execution_count": null,
   "metadata": {
    "collapsed": true
   },
   "outputs": [],
   "source": [
    "# esta celda funciona en binder\n",
    "k=1\n",
    "for amiga in amigas:\n",
    "    print(\"Mi amiga numero\",k,\"es\",amiga)\n",
    "    k+=1"
   ]
  },
  {
   "cell_type": "code",
   "execution_count": null,
   "metadata": {
    "collapsed": true
   },
   "outputs": [],
   "source": [
    "german = turtle.Turtle()\n",
    "\n",
    "for i in [0, 1, 2, 3]:      # repite cuatro veces las instrucciones\n",
    "    german.forward(150)\n",
    "    german.left(90)"
   ]
  },
  {
   "cell_type": "code",
   "execution_count": null,
   "metadata": {
    "collapsed": true
   },
   "outputs": [],
   "source": [
    "for aColor in [\"yellow\", \"red\", \"purple\", \"blue\"]:      \n",
    "    german.forward(50)\n",
    "    german.left(90)"
   ]
  },
  {
   "cell_type": "code",
   "execution_count": null,
   "metadata": {
    "collapsed": true
   },
   "outputs": [],
   "source": [
    "for aColor in [\"yellow\", \"red\", \"purple\", \"blue\"]: \n",
    "    german.color=aColor\n",
    "    german.forward(50)\n",
    "    german.left(90)"
   ]
  },
  {
   "cell_type": "code",
   "execution_count": null,
   "metadata": {
    "collapsed": true
   },
   "outputs": [],
   "source": [
    "for aColor in [\"yellow\", \"red\", \"purple\", \"blue\"]: \n",
    "    german.color=aColor\n",
    "print(aColor)\n",
    "    german.forward(50)\n",
    "    german.left(90)"
   ]
  },
  {
   "cell_type": "markdown",
   "metadata": {},
   "source": [
    "¿En este código, cuántas líneas se muestran?\n",
    "```\n",
    "for numero in [5, 4, 3, 2, 1, 0]:\n",
    "    print(\"Tengo\", numero, \"galletas.\")    \n",
    "```\n",
    "- (a) 1\n",
    "- (b) 5\n",
    "- (c) 6\n",
    "- (d) 10\n",
    "\n",
    "¿En el código anterior, cuál es el número del segundo mensaje que se muestra?\n",
    "\n",
    "- (a) 2\n",
    "- (b) 1\n",
    "- (c) 4\n",
    "\n",
    "¿Cómo sabe Python cuáles instrucciones debe seguir durante el ciclo?\n",
    "- (a) Se indentan con un tab.\n",
    "- (b) Siempre hay exactamente una línea dentro del ciclo.\n",
    "- (c) El ciclo termina con dos puntos.\n",
    "\n"
   ]
  },
  {
   "cell_type": "markdown",
   "metadata": {},
   "source": [
    "<img src=\"img/genius.png\">"
   ]
  },
  {
   "cell_type": "markdown",
   "metadata": {
    "collapsed": true
   },
   "source": [
    "Este material fue recopilado para Clubes de Ciencia Colombia 2017 por Luis Henry Quiroga (GitHub: [lhquirogan](https://github.com/lhquirogan)) - Germán Chaparro (GitHub: [saint-germain](https://github.com/saint-germain)), y fue traducido y adaptado de http://interactivepython.org/runestone/static/thinkcspy/index.html\n",
    "\n",
    "Copyright (C) Brad Miller, David Ranum, Jeffrey Elkner, Peter Wentworth, Allen B. Downey, Chris\n",
    "Meyers, and Dario Mitchell. Permission is granted to copy, distribute\n",
    "and/or modify this document under the terms of the GNU Free Documentation\n",
    "License, Version 1.3 or any later version published by the Free Software\n",
    "Foundation; with Invariant Sections being Forward, Prefaces, and\n",
    "Contributor List, no Front-Cover Texts, and no Back-Cover Texts. A copy of\n",
    "the license is included in the section entitled “GNU Free Documentation\n",
    "License”."
   ]
  }
 ],
 "metadata": {
  "kernelspec": {
   "display_name": "Python 3",
   "language": "python",
   "name": "python3"
  },
  "language_info": {
   "codemirror_mode": {
    "name": "ipython",
    "version": 3
   },
   "file_extension": ".py",
   "mimetype": "text/x-python",
   "name": "python",
   "nbconvert_exporter": "python",
   "pygments_lexer": "ipython3",
   "version": "3.6.1"
  }
 },
 "nbformat": 4,
 "nbformat_minor": 2
}
